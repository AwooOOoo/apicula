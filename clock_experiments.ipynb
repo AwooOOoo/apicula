{
 "cells": [
  {
   "cell_type": "code",
   "execution_count": 1,
   "metadata": {},
   "outputs": [
    {
     "name": "stdout",
     "output_type": "stream",
     "text": [
      "check 19199191\n"
     ]
    }
   ],
   "source": [
    "import tiled_fuzzer\n",
    "import codegen\n",
    "import pindef\n",
    "import bslib\n",
    "import chipdb\n",
    "import fuse_h4x\n",
    "import gowin_unpack\n",
    "from wirenames import wirenames\n",
    "from PIL import Image\n",
    "import numpy as np\n",
    "import pickle\n",
    "\n",
    "def dff(mod, cst, row, col, clk=None):\n",
    "    \"make a dff with optional clock\"\n",
    "    name = tiled_fuzzer.make_name(\"DFF\", \"DFF\")\n",
    "    dff = codegen.Primitive(\"DFF\", name)\n",
    "    dff.portmap['CLK'] = clk if clk else name+\"_CLK\"\n",
    "    dff.portmap['D'] = name+\"_D\"\n",
    "    dff.portmap['Q'] = name+\"_Q\"\n",
    "    mod.wires.update(dff.portmap.values())\n",
    "    mod.primitives[name] = dff\n",
    "    cst.cells[name] = f\"R{row}C{col}\"\n",
    "    return dff.portmap['CLK']\n",
    "\n",
    "def ibuf(mod, cst, loc, clk=None):\n",
    "    \"make an ibuf with optional clock\"\n",
    "    name = tiled_fuzzer.make_name(\"IOB\", \"IBUF\")\n",
    "    iob = codegen.Primitive(\"IBUF\", name)\n",
    "    iob.portmap[\"I\"] = name+\"_I\"\n",
    "    iob.portmap[\"O\"] = clk if clk else name+\"_O\"\n",
    "\n",
    "    mod.wires.update([iob.portmap[\"O\"]])\n",
    "    mod.inputs.update([iob.portmap[\"I\"]])\n",
    "    mod.primitives[name] = iob\n",
    "    cst.ports[name] = loc\n",
    "    return iob.portmap[\"O\"]\n",
    "\n",
    "with open(f\"{tiled_fuzzer.gowinhome}/IDE/share/device/{tiled_fuzzer.device}/{tiled_fuzzer.device}.fse\", 'rb') as f:\n",
    "    fse = fuse_h4x.readFse(f)\n",
    "    \n",
    "with open(f\"{tiled_fuzzer.device}.pickle\", 'rb') as f:\n",
    "    db = pickle.load(f)"
   ]
  },
  {
   "cell_type": "code",
   "execution_count": 2,
   "metadata": {},
   "outputs": [
    {
     "data": {
      "text/plain": [
       "['IOB10A', 'IOB11A', 'IOL7A', 'IOR5A', 'IOR7A']"
      ]
     },
     "execution_count": 2,
     "metadata": {},
     "output_type": "execute_result"
    }
   ],
   "source": [
    "dff_locs = [(2, 18), (2, 5), (10, 5), (10, 18)]\n",
    "clock_pins = pindef.get_clock_locs(\"GW1N-1\", \"QN48\", header=1)\n",
    "# pins appear to be differential with T/C denoting true/complementary\n",
    "true_pins = [p[0] for p in clock_pins if \"GCLKT\" in p[1]]\n",
    "true_pins"
   ]
  },
  {
   "cell_type": "code",
   "execution_count": 3,
   "metadata": {},
   "outputs": [
    {
     "data": {
      "image/png": "[encoded data removed]",
      "text/plain": [
       "<PIL.Image.Image image mode=1 size=1216x274 at 0x7F8098FB7310>"
      ]
     },
     "execution_count": 3,
     "metadata": {},
     "output_type": "execute_result"
    }
   ],
   "source": [
    "mod = codegen.Module()\n",
    "cst = codegen.Constraints()\n",
    "\n",
    "ibufs = [ibuf(mod, cst, p) for p in true_pins]\n",
    "dffs = [dff(mod, cst, row, col) for row, col in dff_locs]\n",
    "    \n",
    "\n",
    "bs, hdr, ftr, posp, config = tiled_fuzzer.run_pnr(mod, cst, {})\n",
    "bslib.display(None, bs)"
   ]
  },
  {
   "cell_type": "code",
   "execution_count": 4,
   "metadata": {},
   "outputs": [
    {
     "data": {
      "image/png": "[encoded data removed]",
      "text/plain": [
       "<PIL.Image.Image image mode=1 size=1216x274 at 0x7F80970A2EE0>"
      ]
     },
     "execution_count": 4,
     "metadata": {},
     "output_type": "execute_result"
    }
   ],
   "source": [
    "mod.assigns = zip(dffs, ibufs)\n",
    "bs_clk, hdr, ftr, posp, config = tiled_fuzzer.run_pnr(mod, cst, {})\n",
    "diff = bs^bs_clk\n",
    "tiles = fuse_h4x.tile_bitmap(fse, diff)\n",
    "bslib.display(None, diff)"
   ]
  },
  {
   "cell_type": "code",
   "execution_count": 5,
   "metadata": {},
   "outputs": [
    {
     "data": {
      "text/plain": [
       "dict_keys([(1, 4, 12), (1, 17, 12), (5, 9, 82), (5, 10, 83), (6, 3, 14), (6, 4, 14), (6, 17, 13), (6, 18, 13), (9, 3, 12), (9, 4, 12), (9, 17, 12), (9, 18, 12)])"
      ]
     },
     "execution_count": 5,
     "metadata": {},
     "output_type": "execute_result"
    }
   ],
   "source": [
    "tiles.keys()"
   ]
  },
  {
   "cell_type": "code",
   "execution_count": 6,
   "metadata": {},
   "outputs": [
    {
     "name": "stdout",
     "output_type": "stream",
     "text": [
      "dff\n",
      "(1, 4, 12)\n"
     ]
    },
    {
     "data": {
      "image/png": "[encoded data removed]",
      "text/plain": [
       "<PIL.Image.Image image mode=1 size=240x96 at 0x7F8096FC3730>"
      ]
     },
     "metadata": {},
     "output_type": "display_data"
    },
    {
     "name": "stdout",
     "output_type": "stream",
     "text": [
      "dff\n",
      "(1, 17, 12)\n"
     ]
    },
    {
     "data": {
      "image/png": "[encoded data removed]",
      "text/plain": [
       "<PIL.Image.Image image mode=1 size=240x96 at 0x7F8096FC3A60>"
      ]
     },
     "metadata": {},
     "output_type": "display_data"
    },
    {
     "name": "stdout",
     "output_type": "stream",
     "text": [
      "(5, 9, 82)\n"
     ]
    },
    {
     "data": {
      "image/png": "[encoded data removed]",
      "text/plain": [
       "<PIL.Image.Image image mode=1 size=240x104 at 0x7F8096FC3D30>"
      ]
     },
     "metadata": {},
     "output_type": "display_data"
    },
    {
     "name": "stdout",
     "output_type": "stream",
     "text": [
      "(5, 10, 83)\n"
     ]
    },
    {
     "data": {
      "image/png": "[encoded data removed]",
      "text/plain": [
       "<PIL.Image.Image image mode=1 size=240x104 at 0x7F8096FC3880>"
      ]
     },
     "metadata": {},
     "output_type": "display_data"
    },
    {
     "name": "stdout",
     "output_type": "stream",
     "text": [
      "(6, 3, 14)\n"
     ]
    },
    {
     "data": {
      "image/png": "[encoded data removed]",
      "text/plain": [
       "<PIL.Image.Image image mode=1 size=240x96 at 0x7F8096FC3A00>"
      ]
     },
     "metadata": {},
     "output_type": "display_data"
    },
    {
     "name": "stdout",
     "output_type": "stream",
     "text": [
      "(6, 4, 14)\n"
     ]
    },
    {
     "data": {
      "image/png": "[encoded data removed]",
      "text/plain": [
       "<PIL.Image.Image image mode=1 size=240x96 at 0x7F8096FC3B80>"
      ]
     },
     "metadata": {},
     "output_type": "display_data"
    },
    {
     "name": "stdout",
     "output_type": "stream",
     "text": [
      "(6, 17, 13)\n"
     ]
    },
    {
     "data": {
      "image/png": "[encoded data removed]",
      "text/plain": [
       "<PIL.Image.Image image mode=1 size=240x96 at 0x7F8096FC3D90>"
      ]
     },
     "metadata": {},
     "output_type": "display_data"
    },
    {
     "name": "stdout",
     "output_type": "stream",
     "text": [
      "(6, 18, 13)\n"
     ]
    },
    {
     "data": {
      "image/png": "[encoded data removed]",
      "text/plain": [
       "<PIL.Image.Image image mode=1 size=240x96 at 0x7F8096FC3730>"
      ]
     },
     "metadata": {},
     "output_type": "display_data"
    },
    {
     "name": "stdout",
     "output_type": "stream",
     "text": [
      "(9, 3, 12)\n"
     ]
    },
    {
     "data": {
      "image/png": "[encoded data removed]",
      "text/plain": [
       "<PIL.Image.Image image mode=1 size=240x96 at 0x7F80970A2D90>"
      ]
     },
     "metadata": {},
     "output_type": "display_data"
    },
    {
     "name": "stdout",
     "output_type": "stream",
     "text": [
      "dff\n",
      "(9, 4, 12)\n"
     ]
    },
    {
     "data": {
      "image/png": "[encoded data removed]",
      "text/plain": [
       "<PIL.Image.Image image mode=1 size=240x96 at 0x7F8096FC3FD0>"
      ]
     },
     "metadata": {},
     "output_type": "display_data"
    },
    {
     "name": "stdout",
     "output_type": "stream",
     "text": [
      "dff\n",
      "(9, 17, 12)\n"
     ]
    },
    {
     "data": {
      "image/png": "[encoded data removed]",
      "text/plain": [
       "<PIL.Image.Image image mode=1 size=240x96 at 0x7F8096FC3D90>"
      ]
     },
     "metadata": {},
     "output_type": "display_data"
    },
    {
     "name": "stdout",
     "output_type": "stream",
     "text": [
      "(9, 18, 12)\n"
     ]
    },
    {
     "data": {
      "image/png": "[encoded data removed]",
      "text/plain": [
       "<PIL.Image.Image image mode=1 size=240x96 at 0x7F8096FC3D30>"
      ]
     },
     "metadata": {},
     "output_type": "display_data"
    }
   ],
   "source": [
    "for loc, tile in tiles.items():\n",
    "    im = bslib.display(None, tile)\n",
    "    im_scaled = im.resize((im.width*4, im.height*4), Image.NEAREST)\n",
    "    if (loc[0]+1, loc[1]+1) in dff_locs:\n",
    "        print('dff')\n",
    "    print(loc)\n",
    "    display(im_scaled)"
   ]
  },
  {
   "cell_type": "markdown",
   "metadata": {},
   "source": [
    "At this point several things are notable.\n",
    "\n",
    " * In the DFF that were placed, a few bits in the routing MUXes changed, 99% sure that's just the connection to `GBxx`, which warants confirmation.\n",
    " * **No bits in the IOB changed**. This suggests they are by default connected to the clock tree? What if you use the complementary pin?\n",
    " * A bunch of bits in the center tile changed, this is probably where the meat of the clock routing happens.\n",
    " * In the center row there are a few tiles with 2 bits changed, most likely connecting a horizontal \"spine\" from the center tile to a vertical \"tap\".\n",
    " * In several tiles there is one bit, most likely connecting the \"tap\" to a horizontal \"branch\".\n",
    " \n",
    "This all has to be further explored.\n",
    "\n",
    "It can be seen that the tiles in which the \"spine\" is connected to the \"taps\" are of a distinct type, namely type 13 and 14.\n",
    "\n",
    "![tile grid](doc/fig/fuse.png)\n",
    "\n",
    "Meanwhile, looking at the bits within a tile of type 12, it can be seen that the single dots correspond with the bottom right cluster, while the bits of type 13 and 14 are not present. There is an empty column there.\n",
    "\n",
    "![tile grid](doc/fig/tile.png)\n",
    "\n",
    "Let's see if tile 13 and 14 indeed have something interesting at these bits."
   ]
  },
  {
   "cell_type": "code",
   "execution_count": 7,
   "metadata": {},
   "outputs": [
    {
     "data": {
      "image/png": "[encoded data removed]",
      "text/plain": [
       "<PIL.Image.Image image mode=P size=480x192 at 0x7F809D387CA0>"
      ]
     },
     "execution_count": 7,
     "metadata": {},
     "output_type": "execute_result"
    }
   ],
   "source": [
    "tile = fuse_h4x.render_tile(fse, 14)\n",
    "im = fuse_h4x.display(None, tile)\n",
    "im.resize((im.width*8, im.height*8), Image.NEAREST) # THEY DO!"
   ]
  },
  {
   "cell_type": "code",
   "execution_count": 8,
   "metadata": {},
   "outputs": [
    {
     "name": "stdout",
     "output_type": "stream",
     "text": [
      "(1, 4) DFF? True CLK0: GB10 GBO0: GT00\n",
      "(1, 17) DFF? True CLK0: GB00 GBO0: GT00\n",
      "(5, 9) DFF? False CLK0: VCC GBO0: None\n",
      "(5, 10) DFF? False CLK0: VCC GBO0: None\n",
      "(6, 3) DFF? False CLK0: VCC GBO0: None\n",
      "(6, 4) DFF? False CLK0: VCC GBO0: None\n",
      "(6, 17) DFF? False CLK0: VCC GBO0: None\n",
      "(6, 18) DFF? False CLK0: VCC GBO0: None\n",
      "(9, 3) DFF? False CLK0: VCC GBO0: GT00\n",
      "(9, 4) DFF? True CLK0: GB20 GBO0: None\n",
      "(9, 17) DFF? True CLK0: GB30 GBO0: None\n",
      "(9, 18) DFF? False CLK0: VCC GBO0: GT00\n"
     ]
    }
   ],
   "source": [
    "# Lets parse the tile to confirm the MUX\n",
    "bm = chipdb.tile_bitmap(db, bs_clk)\n",
    "interesting = {loc[0:2] for loc in tiles.keys()}\n",
    "for idx, t in bm.items():\n",
    "    if idx in interesting:\n",
    "        row, col = idx\n",
    "        dbtile = db.grid[row][col]\n",
    "        bels, pips = gowin_unpack.parse_tile_(dbtile, t)\n",
    "        print(idx, \"DFF?\", 'DFF0' in bels, \"CLK0:\", pips['CLK0'], \"GBO0:\", pips.get('GBO0'))"
   ]
  },
  {
   "cell_type": "markdown",
   "metadata": {},
   "source": [
    "So this confirms that `CLK0` is indeed connected to `GBxx`, and in fact 4 diffrent `GBxx`.\n",
    "It also shows that we're already decoding the `GBO0` to `GT00` connection, which I'm 99% sure corresponds to the bottom right bit.\n",
    "What it all means? Nobody knows. Okay, maybe some god and a few Gowin engineers...\n",
    "\n",
    "The fact that there is only one `GBO0` to `GT00` connection would suggest it routes all `GBxx` and then selects one locally.\n",
    "But what's weird is that it seems to route each via a seperate tap, while the DFF are in the same column. Would it then not be more sense to enable one tap for both?\n",
    "Maybe this is to limit clock skew?\n",
    "\n",
    "Next step is to dig in the fuse file and confirm the `GBO0` to `GT00` connection and inspect the top right bits in tiles 13 and 14."
   ]
  },
  {
   "cell_type": "code",
   "execution_count": 12,
   "metadata": {},
   "outputs": [
    {
     "name": "stdout",
     "output_type": "stream",
     "text": [
      "[(0, 59), (2, 59)]\n"
     ]
    },
    {
     "data": {
      "text/plain": [
       "{'GT00': {'A6': {(0, 59), (2, 59)},\n",
       "  'B6': {(0, 59), (2, 59)},\n",
       "  'C6': {(0, 59), (2, 59)},\n",
       "  'D6': {(0, 59), (2, 59)}},\n",
       " 'GT10': {'A7': {(1, 59), (3, 59)},\n",
       "  'B7': {(1, 59), (3, 59)},\n",
       "  'C7': {(1, 59), (3, 59)},\n",
       "  'D7': {(1, 59), (3, 59)},\n",
       "  'N130': {(3, 59)},\n",
       "  'EW20': {(1, 59), (3, 59)},\n",
       "  'E130': {(1, 59), (3, 59)},\n",
       "  'W100': {(1, 59), (3, 59)},\n",
       "  'W130': {(1, 59)},\n",
       "  'N200': {(1, 59), (3, 59)},\n",
       "  'N210': {(1, 59), (3, 59)},\n",
       "  'N220': {(1, 59), (3, 59)},\n",
       "  'N230': {(1, 59), (3, 59)}}}"
      ]
     },
     "execution_count": 12,
     "metadata": {},
     "output_type": "execute_result"
    }
   ],
   "source": [
    "spine_tile = tiles[(6, 3, 14)]\n",
    "#fs = fuse_h4x.scan_fuses(fse, 14, spine_tile)\n",
    "loc = list(zip(*np.where(spine_tile==1)))\n",
    "print(loc)\n",
    "#fuses = fuse_h4x.scan_tables(fse, 14, fs)\n",
    "#parsed = fuse_h4x.parse_tile(fse, 14, spine_tile)\n",
    "# stolen from chipdb.py\n",
    "def fse_pips(fse, ttyp, table):\n",
    "    pips = {}\n",
    "    for srcid, destid, *fuses in fse[ttyp]['wire'][table]:\n",
    "        fuses = {fuse_h4x.fuse_lookup(fse, ttyp, f) for f in chipdb.unpad(fuses)}\n",
    "        if srcid < 0:\n",
    "            fuses = set()\n",
    "            srcid = -srcid\n",
    "        #if srcid > 1000:\n",
    "        #    srcid -= 1000 # what does it mean?\n",
    "        #if destid > 1000:\n",
    "        #    destid -= 1000 # what does it mean?\n",
    "        src = wirenames[srcid]\n",
    "        dest = wirenames[destid]\n",
    "        pips.setdefault(dest, {})[src] = fuses\n",
    "    return pips\n",
    "    \n",
    "fse_pips(fse, 13, 38)"
   ]
  },
  {
   "cell_type": "markdown",
   "metadata": {},
   "source": [
    "That is... somewhat confusing. But hey, it seems that wire table 38 contains the fuses for the top right bits, which drive `GT00`.\n",
    "It's worth noting the source wire names might not be accurate, this is after all a completely different wire table.\n",
    "Normal routing is in table 2.\n",
    "\n",
    "Note also from `wirenames` that there are just two `GBO0`/`GBO1` and two `GT00`/`GT10`, while there are 8 `GBxx`. (note `O`/`0`).\n",
    "Does this match with primary/secondary naming in the timing info? Seems plausible.\n",
    "\n",
    "So okay, I can get into this. *something* drives the vertical `GT00` wires, which drives the horizontal `GBO0` wires, which drives the `GBxx` inputs at th DFF. I think it's time to look at this big and scary center tiles."
   ]
  },
  {
   "cell_type": "code",
   "execution_count": 10,
   "metadata": {},
   "outputs": [
    {
     "name": "stdout",
     "output_type": "stream",
     "text": [
      "Wire tables: [2, 38] [2, 38]\n",
      "Tile 82 destinations: ['A4', 'B4', 'C4', 'D4', 'A5', 'B5', 'N100', 'SN10', 'SN20', 'N130', 'F0', 'F1', 'F6', 'F2', 'F3', 'F4', 'F5']\n",
      "Tile 14 source:       [['A4', 'B4', 'C4', 'D4'], ['A5', 'B5', 'C5', 'D5', 'N100', 'SN10', 'SN20', 'N130', 'S100', 'S130', 'E100', 'EW10']]\n",
      "Tile 83 destinations: ['A6', 'B6', 'C6', 'D6', 'A7', 'B7', 'EW20', 'E130', 'W100', 'W130', 'Q0', 'Q1', 'Q6', 'Q2', 'Q3', 'Q4', 'Q5']\n",
      "Tile 13 source:       [['A6', 'B6', 'C6', 'D6'], ['A7', 'B7', 'C7', 'D7', 'N130', 'EW20', 'E130', 'W100', 'W130', 'N200', 'N210', 'N220', 'N230']]\n"
     ]
    }
   ],
   "source": [
    "print(\"Wire tables:\", list(fse[82]['wire'].keys()), list(fse[83]['wire'].keys())) # table 38 again!\n",
    "print(\"Tile 82 destinations:\", list(fse_pips(fse, 82, 38).keys()))\n",
    "print(\"Tile 14 source:      \", [list(k.keys()) for k in fse_pips(fse, 14, 38).values()])\n",
    "print(\"Tile 83 destinations:\", list(fse_pips(fse, 83, 38).keys()))\n",
    "print(\"Tile 13 source:      \", [list(k.keys()) for k in fse_pips(fse, 13, 38).values()])"
   ]
  },
  {
   "cell_type": "markdown",
   "metadata": {},
   "source": [
    "This is interesting, it appears that despite the awkward names, most of the routes actually match. The puzzling part is the sources of the center tiles.\n",
    "Somehow these have to match up with dedicated clock pins and other clock sources.\n",
    "If the taps and branches indeed switch all 8 global clocks at once, there should be a bunch of different muxes in there.\n",
    "How is this encoded in the fuse file? No idea. More poking around needed..."
   ]
  },
  {
   "cell_type": "code",
   "execution_count": 26,
   "metadata": {},
   "outputs": [
    {
     "data": {
      "image/png": "[encoded data removed]",
      "text/plain": [
       "<PIL.Image.Image image mode=P size=480x208 at 0x7F80970A2FD0>"
      ]
     },
     "metadata": {},
     "output_type": "display_data"
    },
    {
     "data": {
      "image/png": "[encoded data removed]",
      "text/plain": [
       "<PIL.Image.Image image mode=1 size=480x16 at 0x7F80970A2FD0>"
      ]
     },
     "metadata": {},
     "output_type": "display_data"
    },
    {
     "data": {
      "image/png": "[encoded data removed]",
      "text/plain": [
       "<PIL.Image.Image image mode=P size=480x208 at 0x7F80979D12B0>"
      ]
     },
     "metadata": {},
     "output_type": "display_data"
    },
    {
     "data": {
      "image/png": "[encoded data removed]",
      "text/plain": [
       "<PIL.Image.Image image mode=1 size=480x16 at 0x7F80D16E4E50>"
      ]
     },
     "metadata": {},
     "output_type": "display_data"
    }
   ],
   "source": [
    "tile = fuse_h4x.render_tile(fse, 83)\n",
    "im = fuse_h4x.display(None, tile)\n",
    "display(im.resize((im.width*8, im.height*8), Image.NEAREST))\n",
    "\n",
    "im = bslib.display(None, tiles[(5, 10, 83)][-2:,:])\n",
    "display(im.resize((im.width*8, im.height*8), Image.NEAREST))\n",
    "\n",
    "tile = fuse_h4x.render_tile(fse, 82)\n",
    "im = fuse_h4x.display(None, tile)\n",
    "display(im.resize((im.width*8, im.height*8), Image.NEAREST))\n",
    "\n",
    "im = bslib.display(None, tiles[(5, 9, 82)][-2:,:])\n",
    "display(im.resize((im.width*8, im.height*8), Image.NEAREST))"
   ]
  }
 ],
 "metadata": {
  "kernelspec": {
   "display_name": "Python 3",
   "language": "python",
   "name": "python3"
  },
  "language_info": {
   "codemirror_mode": {
    "name": "ipython",
    "version": 3
   },
   "file_extension": ".py",
   "mimetype": "text/x-python",
   "name": "python",
   "nbconvert_exporter": "python",
   "pygments_lexer": "ipython3",
   "version": "3.8.5"
  }
 },
 "nbformat": 4,
 "nbformat_minor": 4
}
